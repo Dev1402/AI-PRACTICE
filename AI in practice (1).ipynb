{
 "cells": [
  {
   "cell_type": "code",
   "execution_count": 79,
   "metadata": {},
   "outputs": [],
   "source": [
    "import tensorflow as tf"
   ]
  },
  {
   "cell_type": "code",
   "execution_count": 80,
   "metadata": {},
   "outputs": [],
   "source": [
    "from tensorflow import keras"
   ]
  },
  {
   "cell_type": "code",
   "execution_count": 81,
   "metadata": {},
   "outputs": [
    {
     "data": {
      "text/plain": [
       "'1.13.1'"
      ]
     },
     "execution_count": 81,
     "metadata": {},
     "output_type": "execute_result"
    }
   ],
   "source": [
    "tf.__version__"
   ]
  },
  {
   "cell_type": "code",
   "execution_count": 82,
   "metadata": {},
   "outputs": [
    {
     "data": {
      "text/plain": [
       "'2.2.4-tf'"
      ]
     },
     "execution_count": 82,
     "metadata": {},
     "output_type": "execute_result"
    }
   ],
   "source": [
    "keras.__version__"
   ]
  },
  {
   "cell_type": "code",
   "execution_count": 83,
   "metadata": {},
   "outputs": [],
   "source": [
    "df = keras.datasets.fashion_mnist\n",
    "(X_train_full, y_train_full), (X_test, y_test) = df.load_data()"
   ]
  },
  {
   "cell_type": "code",
   "execution_count": 84,
   "metadata": {},
   "outputs": [
    {
     "data": {
      "text/plain": [
       "(60000, 28, 28)"
      ]
     },
     "execution_count": 84,
     "metadata": {},
     "output_type": "execute_result"
    }
   ],
   "source": [
    "X_train_full.shape"
   ]
  },
  {
   "cell_type": "code",
   "execution_count": 85,
   "metadata": {},
   "outputs": [],
   "source": [
    "X_valid, X_train = X_train_full[:5000] / 255.0, X_train_full[5000:] / 255.0\n",
    "y_valid, y_train = y_train_full[:5000], y_train_full[5000:]"
   ]
  },
  {
   "cell_type": "code",
   "execution_count": 86,
   "metadata": {},
   "outputs": [],
   "source": [
    "class_names = [\"T-shirt/top\", \"Trouser\", \"Pullover\", \"Dress\", \"Coat\",\n",
    "\"Sandal\", \"Shirt\", \"Sneaker\", \"Bag\", \"Ankle boot\"]"
   ]
  },
  {
   "cell_type": "code",
   "execution_count": 87,
   "metadata": {},
   "outputs": [
    {
     "data": {
      "text/plain": [
       "'Coat'"
      ]
     },
     "execution_count": 87,
     "metadata": {},
     "output_type": "execute_result"
    }
   ],
   "source": [
    "class_names[y_train[0]]"
   ]
  },
  {
   "cell_type": "code",
   "execution_count": 88,
   "metadata": {},
   "outputs": [],
   "source": [
    "from keras.models import Sequential\n",
    "from keras.layers import Activation, Dense,Flatten\n"
   ]
  },
  {
   "cell_type": "code",
   "execution_count": 89,
   "metadata": {},
   "outputs": [],
   "source": [
    "model = Sequential()\n",
    "model.add(Flatten(input_shape=[28, 28]))\n",
    "model.add(Dense(300,activation='relu'))\n",
    "model.add(Dense(100,activation='relu' ))\n",
    "model.add(Dense(10,activation='softmax' ))\n",
    " "
   ]
  },
  {
   "cell_type": "code",
   "execution_count": 90,
   "metadata": {},
   "outputs": [
    {
     "data": {
      "text/plain": [
       "[<keras.layers.core.Flatten at 0xb39302550>,\n",
       " <keras.layers.core.Dense at 0xb393025c0>,\n",
       " <keras.layers.core.Dense at 0xb39302710>,\n",
       " <keras.layers.core.Dense at 0xb39302e80>]"
      ]
     },
     "execution_count": 90,
     "metadata": {},
     "output_type": "execute_result"
    }
   ],
   "source": [
    "model.layers"
   ]
  },
  {
   "cell_type": "code",
   "execution_count": 91,
   "metadata": {},
   "outputs": [
    {
     "data": {
      "text/plain": [
       "'dense_10'"
      ]
     },
     "execution_count": 91,
     "metadata": {},
     "output_type": "execute_result"
    }
   ],
   "source": [
    "model.layers[1].name"
   ]
  },
  {
   "cell_type": "code",
   "execution_count": 92,
   "metadata": {},
   "outputs": [
    {
     "name": "stdout",
     "output_type": "stream",
     "text": [
      "_________________________________________________________________\n",
      "Layer (type)                 Output Shape              Param #   \n",
      "=================================================================\n",
      "flatten_3 (Flatten)          (None, 784)               0         \n",
      "_________________________________________________________________\n",
      "dense_10 (Dense)             (None, 300)               235500    \n",
      "_________________________________________________________________\n",
      "dense_11 (Dense)             (None, 100)               30100     \n",
      "_________________________________________________________________\n",
      "dense_12 (Dense)             (None, 10)                1010      \n",
      "=================================================================\n",
      "Total params: 266,610\n",
      "Trainable params: 266,610\n",
      "Non-trainable params: 0\n",
      "_________________________________________________________________\n"
     ]
    }
   ],
   "source": [
    "model.summary()"
   ]
  },
  {
   "cell_type": "code",
   "execution_count": 93,
   "metadata": {
    "scrolled": true
   },
   "outputs": [
    {
     "data": {
      "text/plain": [
       "array([[-0.07364177,  0.04694547,  0.05638276, ...,  0.05037846,\n",
       "         0.04013526, -0.04222182],\n",
       "       [-0.03029143, -0.03243572,  0.05256674, ..., -0.00199618,\n",
       "         0.00875333,  0.0326509 ],\n",
       "       [ 0.06438825,  0.0502032 ,  0.01763015, ...,  0.05942422,\n",
       "         0.05938154,  0.0048148 ],\n",
       "       ...,\n",
       "       [ 0.0064126 ,  0.01227007, -0.03014756, ...,  0.03732029,\n",
       "         0.06924309,  0.02343576],\n",
       "       [-0.06792314,  0.01717871, -0.02546932, ...,  0.03009427,\n",
       "         0.01215158,  0.06568553],\n",
       "       [-0.07162537,  0.04689488,  0.02883977, ..., -0.06508088,\n",
       "         0.06538925, -0.0305266 ]], dtype=float32)"
      ]
     },
     "execution_count": 93,
     "metadata": {},
     "output_type": "execute_result"
    }
   ],
   "source": [
    "w,b = model.layers[1].get_weights()\n",
    "w"
   ]
  },
  {
   "cell_type": "code",
   "execution_count": 94,
   "metadata": {},
   "outputs": [],
   "source": [
    "model.compile(optimizer='sgd', loss = 'sparse_categorical_crossentropy', metrics=['accuracy'])"
   ]
  },
  {
   "cell_type": "code",
   "execution_count": 95,
   "metadata": {},
   "outputs": [
    {
     "name": "stdout",
     "output_type": "stream",
     "text": [
      "WARNING:tensorflow:From /anaconda3/lib/python3.7/site-packages/tensorflow/python/ops/math_ops.py:3066: to_int32 (from tensorflow.python.ops.math_ops) is deprecated and will be removed in a future version.\n",
      "Instructions for updating:\n",
      "Use tf.cast instead.\n",
      "Epoch 1/30\n",
      "55000/55000 [==============================] - 7s 130us/step - loss: 0.7136 - acc: 0.7659\n",
      "Epoch 2/30\n",
      "55000/55000 [==============================] - 7s 134us/step - loss: 0.4850 - acc: 0.8310 0s - loss: 0.48\n",
      "Epoch 3/30\n",
      "55000/55000 [==============================] - 6s 114us/step - loss: 0.4406 - acc: 0.8457\n",
      "Epoch 4/30\n",
      "55000/55000 [==============================] - 6s 115us/step - loss: 0.4136 - acc: 0.8556\n",
      "Epoch 5/30\n",
      "55000/55000 [==============================] - 7s 120us/step - loss: 0.3935 - acc: 0.8626\n",
      "Epoch 6/30\n",
      "55000/55000 [==============================] - 6s 116us/step - loss: 0.3785 - acc: 0.8675\n",
      "Epoch 7/30\n",
      "55000/55000 [==============================] - 7s 124us/step - loss: 0.3654 - acc: 0.8710\n",
      "Epoch 8/30\n",
      "55000/55000 [==============================] - 8s 136us/step - loss: 0.3545 - acc: 0.8746\n",
      "Epoch 9/30\n",
      "55000/55000 [==============================] - 7s 118us/step - loss: 0.3441 - acc: 0.8774\n",
      "Epoch 10/30\n",
      "55000/55000 [==============================] - 6s 102us/step - loss: 0.3352 - acc: 0.8807\n",
      "Epoch 11/30\n",
      "55000/55000 [==============================] - 6s 103us/step - loss: 0.3257 - acc: 0.8841\n",
      "Epoch 12/30\n",
      "55000/55000 [==============================] - 6s 107us/step - loss: 0.3183 - acc: 0.8857\n",
      "Epoch 13/30\n",
      "55000/55000 [==============================] - 6s 105us/step - loss: 0.3108 - acc: 0.8884\n",
      "Epoch 14/30\n",
      "55000/55000 [==============================] - 6s 102us/step - loss: 0.3042 - acc: 0.8900\n",
      "Epoch 15/30\n",
      "55000/55000 [==============================] - 6s 117us/step - loss: 0.2980 - acc: 0.8923\n",
      "Epoch 16/30\n",
      "55000/55000 [==============================] - 6s 113us/step - loss: 0.2917 - acc: 0.8947\n",
      "Epoch 17/30\n",
      "55000/55000 [==============================] - 6s 113us/step - loss: 0.2852 - acc: 0.8967\n",
      "Epoch 18/30\n",
      "55000/55000 [==============================] - 7s 130us/step - loss: 0.2798 - acc: 0.8996\n",
      "Epoch 19/30\n",
      "55000/55000 [==============================] - 7s 122us/step - loss: 0.2753 - acc: 0.9008\n",
      "Epoch 20/30\n",
      "55000/55000 [==============================] - 7s 121us/step - loss: 0.2704 - acc: 0.9028\n",
      "Epoch 21/30\n",
      "55000/55000 [==============================] - 6s 101us/step - loss: 0.2647 - acc: 0.9034\n",
      "Epoch 22/30\n",
      "55000/55000 [==============================] - 6s 104us/step - loss: 0.2603 - acc: 0.9071\n",
      "Epoch 23/30\n",
      "55000/55000 [==============================] - 6s 103us/step - loss: 0.2555 - acc: 0.9081\n",
      "Epoch 24/30\n",
      "55000/55000 [==============================] - 6s 103us/step - loss: 0.2511 - acc: 0.9090\n",
      "Epoch 25/30\n",
      "55000/55000 [==============================] - 6s 117us/step - loss: 0.2475 - acc: 0.9097\n",
      "Epoch 26/30\n",
      "55000/55000 [==============================] - 6s 104us/step - loss: 0.2427 - acc: 0.9123\n",
      "Epoch 27/30\n",
      "55000/55000 [==============================] - 7s 127us/step - loss: 0.2387 - acc: 0.9129\n",
      "Epoch 28/30\n",
      "55000/55000 [==============================] - 7s 122us/step - loss: 0.2351 - acc: 0.9157\n",
      "Epoch 29/30\n",
      "55000/55000 [==============================] - 7s 120us/step - loss: 0.2313 - acc: 0.9166 1s\n",
      "Epoch 30/30\n",
      "55000/55000 [==============================] - 7s 126us/step - loss: 0.2274 - acc: 0.9188\n"
     ]
    }
   ],
   "source": [
    "h =model.fit(X_train,y_train,epochs=30)"
   ]
  },
  {
   "cell_type": "code",
   "execution_count": 97,
   "metadata": {},
   "outputs": [
    {
     "data": {
      "image/png": "[encoded data removed]",
      "text/plain": [
       "<Figure size 576x360 with 1 Axes>"
      ]
     },
     "metadata": {
      "needs_background": "light"
     },
     "output_type": "display_data"
    }
   ],
   "source": [
    "import pandas as pd\n",
    "import matplotlib.pyplot as plt\n",
    "pd.DataFrame(h.history).plot(figsize=(8, 5))\n",
    "plt.grid(True)\n",
    "plt.gca().set_ylim(0, 1) # set the vertical range to [0-1]\n",
    "plt.show()"
   ]
  },
  {
   "cell_type": "code",
   "execution_count": 99,
   "metadata": {},
   "outputs": [
    {
     "name": "stdout",
     "output_type": "stream",
     "text": [
      "10000/10000 [==============================] - 1s 66us/step\n"
     ]
    },
    {
     "data": {
      "text/plain": [
       "[2.833497012519836, 0.8224]"
      ]
     },
     "execution_count": 99,
     "metadata": {},
     "output_type": "execute_result"
    }
   ],
   "source": [
    "model.evaluate(X_test,y_test)"
   ]
  }
 ],
 "metadata": {
  "kernelspec": {
   "display_name": "Python 3",
   "language": "python",
   "name": "python3"
  },
  "language_info": {
   "codemirror_mode": {
    "name": "ipython",
    "version": 3
   },
   "file_extension": ".py",
   "mimetype": "text/x-python",
   "name": "python",
   "nbconvert_exporter": "python",
   "pygments_lexer": "ipython3",
   "version": "3.7.1"
  }
 },
 "nbformat": 4,
 "nbformat_minor": 2
}
